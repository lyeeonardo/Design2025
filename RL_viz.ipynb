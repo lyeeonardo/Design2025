{
  "nbformat": 4,
  "nbformat_minor": 0,
  "metadata": {
    "colab": {
      "provenance": []
    },
    "kernelspec": {
      "name": "python3",
      "display_name": "Python 3"
    },
    "language_info": {
      "name": "python"
    },
    "widgets": {
      "application/vnd.jupyter.widget-state+json": {
        "e48321f9cc2e42f4b3b63ca31d428e05": {
          "model_module": "@jupyter-widgets/controls",
          "model_name": "DropdownModel",
          "model_module_version": "1.5.0",
          "state": {
            "_dom_classes": [],
            "_model_module": "@jupyter-widgets/controls",
            "_model_module_version": "1.5.0",
            "_model_name": "DropdownModel",
            "_options_labels": [
              "Q-table suggestion",
              "Manual"
            ],
            "_view_count": null,
            "_view_module": "@jupyter-widgets/controls",
            "_view_module_version": "1.5.0",
            "_view_name": "DropdownView",
            "description": "Control:",
            "description_tooltip": null,
            "disabled": false,
            "index": 1,
            "layout": "IPY_MODEL_f58eae93ffdd462189ad551c6f181d16",
            "style": "IPY_MODEL_df391c5afe3947ba905a47dba0fda881"
          }
        },
        "f58eae93ffdd462189ad551c6f181d16": {
          "model_module": "@jupyter-widgets/base",
          "model_name": "LayoutModel",
          "model_module_version": "1.2.0",
          "state": {
            "_model_module": "@jupyter-widgets/base",
            "_model_module_version": "1.2.0",
            "_model_name": "LayoutModel",
            "_view_count": null,
            "_view_module": "@jupyter-widgets/base",
            "_view_module_version": "1.2.0",
            "_view_name": "LayoutView",
            "align_content": null,
            "align_items": null,
            "align_self": null,
            "border": null,
            "bottom": null,
            "display": null,
            "flex": null,
            "flex_flow": null,
            "grid_area": null,
            "grid_auto_columns": null,
            "grid_auto_flow": null,
            "grid_auto_rows": null,
            "grid_column": null,
            "grid_gap": null,
            "grid_row": null,
            "grid_template_areas": null,
            "grid_template_columns": null,
            "grid_template_rows": null,
            "height": null,
            "justify_content": null,
            "justify_items": null,
            "left": null,
            "margin": null,
            "max_height": null,
            "max_width": null,
            "min_height": null,
            "min_width": null,
            "object_fit": null,
            "object_position": null,
            "order": null,
            "overflow": null,
            "overflow_x": null,
            "overflow_y": null,
            "padding": null,
            "right": null,
            "top": null,
            "visibility": null,
            "width": null
          }
        },
        "df391c5afe3947ba905a47dba0fda881": {
          "model_module": "@jupyter-widgets/controls",
          "model_name": "DescriptionStyleModel",
          "model_module_version": "1.5.0",
          "state": {
            "_model_module": "@jupyter-widgets/controls",
            "_model_module_version": "1.5.0",
            "_model_name": "DescriptionStyleModel",
            "_view_count": null,
            "_view_module": "@jupyter-widgets/base",
            "_view_module_version": "1.2.0",
            "_view_name": "StyleView",
            "description_width": ""
          }
        },
        "9717ede189b24af9a7e46bcc0eb4af6d": {
          "model_module": "@jupyter-widgets/controls",
          "model_name": "DropdownModel",
          "model_module_version": "1.5.0",
          "state": {
            "_dom_classes": [],
            "_model_module": "@jupyter-widgets/controls",
            "_model_module_version": "1.5.0",
            "_model_name": "DropdownModel",
            "_options_labels": [
              "up",
              "down",
              "left",
              "right"
            ],
            "_view_count": null,
            "_view_module": "@jupyter-widgets/controls",
            "_view_module_version": "1.5.0",
            "_view_name": "DropdownView",
            "description": "Action:",
            "description_tooltip": null,
            "disabled": false,
            "index": 3,
            "layout": "IPY_MODEL_1070293a0ee94037915998fb9f5b8ec3",
            "style": "IPY_MODEL_7d6a58cb96834e279a4a837299736e4c"
          }
        },
        "1070293a0ee94037915998fb9f5b8ec3": {
          "model_module": "@jupyter-widgets/base",
          "model_name": "LayoutModel",
          "model_module_version": "1.2.0",
          "state": {
            "_model_module": "@jupyter-widgets/base",
            "_model_module_version": "1.2.0",
            "_model_name": "LayoutModel",
            "_view_count": null,
            "_view_module": "@jupyter-widgets/base",
            "_view_module_version": "1.2.0",
            "_view_name": "LayoutView",
            "align_content": null,
            "align_items": null,
            "align_self": null,
            "border": null,
            "bottom": null,
            "display": null,
            "flex": null,
            "flex_flow": null,
            "grid_area": null,
            "grid_auto_columns": null,
            "grid_auto_flow": null,
            "grid_auto_rows": null,
            "grid_column": null,
            "grid_gap": null,
            "grid_row": null,
            "grid_template_areas": null,
            "grid_template_columns": null,
            "grid_template_rows": null,
            "height": null,
            "justify_content": null,
            "justify_items": null,
            "left": null,
            "margin": null,
            "max_height": null,
            "max_width": null,
            "min_height": null,
            "min_width": null,
            "object_fit": null,
            "object_position": null,
            "order": null,
            "overflow": null,
            "overflow_x": null,
            "overflow_y": null,
            "padding": null,
            "right": null,
            "top": null,
            "visibility": null,
            "width": null
          }
        },
        "7d6a58cb96834e279a4a837299736e4c": {
          "model_module": "@jupyter-widgets/controls",
          "model_name": "DescriptionStyleModel",
          "model_module_version": "1.5.0",
          "state": {
            "_model_module": "@jupyter-widgets/controls",
            "_model_module_version": "1.5.0",
            "_model_name": "DescriptionStyleModel",
            "_view_count": null,
            "_view_module": "@jupyter-widgets/base",
            "_view_module_version": "1.2.0",
            "_view_name": "StyleView",
            "description_width": ""
          }
        },
        "a661f14c273b412ba7c12f8304643530": {
          "model_module": "@jupyter-widgets/controls",
          "model_name": "ButtonModel",
          "model_module_version": "1.5.0",
          "state": {
            "_dom_classes": [],
            "_model_module": "@jupyter-widgets/controls",
            "_model_module_version": "1.5.0",
            "_model_name": "ButtonModel",
            "_view_count": null,
            "_view_module": "@jupyter-widgets/controls",
            "_view_module_version": "1.5.0",
            "_view_name": "ButtonView",
            "button_style": "",
            "description": "Step",
            "disabled": false,
            "icon": "",
            "layout": "IPY_MODEL_5f36c60888cc4058bb0f256f07ef68f0",
            "style": "IPY_MODEL_29a860a7638d4376803498efe6aa6be9",
            "tooltip": ""
          }
        },
        "5f36c60888cc4058bb0f256f07ef68f0": {
          "model_module": "@jupyter-widgets/base",
          "model_name": "LayoutModel",
          "model_module_version": "1.2.0",
          "state": {
            "_model_module": "@jupyter-widgets/base",
            "_model_module_version": "1.2.0",
            "_model_name": "LayoutModel",
            "_view_count": null,
            "_view_module": "@jupyter-widgets/base",
            "_view_module_version": "1.2.0",
            "_view_name": "LayoutView",
            "align_content": null,
            "align_items": null,
            "align_self": null,
            "border": null,
            "bottom": null,
            "display": null,
            "flex": null,
            "flex_flow": null,
            "grid_area": null,
            "grid_auto_columns": null,
            "grid_auto_flow": null,
            "grid_auto_rows": null,
            "grid_column": null,
            "grid_gap": null,
            "grid_row": null,
            "grid_template_areas": null,
            "grid_template_columns": null,
            "grid_template_rows": null,
            "height": null,
            "justify_content": null,
            "justify_items": null,
            "left": null,
            "margin": null,
            "max_height": null,
            "max_width": null,
            "min_height": null,
            "min_width": null,
            "object_fit": null,
            "object_position": null,
            "order": null,
            "overflow": null,
            "overflow_x": null,
            "overflow_y": null,
            "padding": null,
            "right": null,
            "top": null,
            "visibility": null,
            "width": null
          }
        },
        "29a860a7638d4376803498efe6aa6be9": {
          "model_module": "@jupyter-widgets/controls",
          "model_name": "ButtonStyleModel",
          "model_module_version": "1.5.0",
          "state": {
            "_model_module": "@jupyter-widgets/controls",
            "_model_module_version": "1.5.0",
            "_model_name": "ButtonStyleModel",
            "_view_count": null,
            "_view_module": "@jupyter-widgets/base",
            "_view_module_version": "1.2.0",
            "_view_name": "StyleView",
            "button_color": null,
            "font_weight": ""
          }
        },
        "56fc86f72ff34b66ac8a43c17de1b64b": {
          "model_module": "@jupyter-widgets/output",
          "model_name": "OutputModel",
          "model_module_version": "1.0.0",
          "state": {
            "_dom_classes": [],
            "_model_module": "@jupyter-widgets/output",
            "_model_module_version": "1.0.0",
            "_model_name": "OutputModel",
            "_view_count": null,
            "_view_module": "@jupyter-widgets/output",
            "_view_module_version": "1.0.0",
            "_view_name": "OutputView",
            "layout": "IPY_MODEL_9fc51fd3febe40e084e0d9c55b44e126",
            "msg_id": "",
            "outputs": [
              {
                "output_type": "stream",
                "name": "stdout",
                "text": [
                  "Action taken: right\n",
                  "Reward: -1\n",
                  "\n",
                  "Updated Q-table:\n",
                  "State (0,0): up: -0.50 down: 0.00 left: 0.00 right: 0.32\n",
                  "State (0,1): up: 0.00 down: 0.00 left: 0.00 right: 3.54\n",
                  "State (0,2): up: 0.00 down: 6.34 left: 0.00 right: 0.00\n",
                  "State (1,0): up: 0.00 down: 0.00 left: 0.00 right: 0.00\n",
                  "State (1,1): up: 0.00 down: 0.00 left: 0.00 right: 0.00\n",
                  "State (1,2): up: 0.00 down: 9.69 left: 0.00 right: 0.00\n",
                  "State (2,0): up: 0.00 down: 0.00 left: 0.00 right: 0.00\n",
                  "State (2,1): up: 0.00 down: 0.00 left: 0.00 right: 0.00\n",
                  "State (2,2): up: 0.00 down: 0.00 left: 0.00 right: 0.00\n"
                ]
              },
              {
                "output_type": "display_data",
                "data": {
                  "text/plain": "<Figure size 640x480 with 1 Axes>",
                  "image/png": "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\n"
                },
                "metadata": {}
              }
            ]
          }
        },
        "9fc51fd3febe40e084e0d9c55b44e126": {
          "model_module": "@jupyter-widgets/base",
          "model_name": "LayoutModel",
          "model_module_version": "1.2.0",
          "state": {
            "_model_module": "@jupyter-widgets/base",
            "_model_module_version": "1.2.0",
            "_model_name": "LayoutModel",
            "_view_count": null,
            "_view_module": "@jupyter-widgets/base",
            "_view_module_version": "1.2.0",
            "_view_name": "LayoutView",
            "align_content": null,
            "align_items": null,
            "align_self": null,
            "border": null,
            "bottom": null,
            "display": null,
            "flex": null,
            "flex_flow": null,
            "grid_area": null,
            "grid_auto_columns": null,
            "grid_auto_flow": null,
            "grid_auto_rows": null,
            "grid_column": null,
            "grid_gap": null,
            "grid_row": null,
            "grid_template_areas": null,
            "grid_template_columns": null,
            "grid_template_rows": null,
            "height": null,
            "justify_content": null,
            "justify_items": null,
            "left": null,
            "margin": null,
            "max_height": null,
            "max_width": null,
            "min_height": null,
            "min_width": null,
            "object_fit": null,
            "object_position": null,
            "order": null,
            "overflow": null,
            "overflow_x": null,
            "overflow_y": null,
            "padding": null,
            "right": null,
            "top": null,
            "visibility": null,
            "width": null
          }
        }
      }
    }
  },
  "cells": [
    {
      "cell_type": "code",
      "source": [
        "# @title Default title text\n",
        "# Import necessary libraries\n",
        "import numpy as np\n",
        "import matplotlib.pyplot as plt\n",
        "import ipywidgets as widgets\n",
        "from IPython.display import display, clear_output\n",
        "\n",
        "# Maze environment definition\n",
        "class MazeEnv:\n",
        "    def __init__(self, size=3):\n",
        "        self.size = size\n",
        "        self.start = (0, 0)\n",
        "        self.goal = (size - 1, size - 1)\n",
        "        self.state = self.start\n",
        "\n",
        "    def reset(self):\n",
        "        self.state = self.start\n",
        "        return self.state\n",
        "\n",
        "    def step(self, action):\n",
        "        # Action mapping: 0: up, 1: down, 2: left, 3: right\n",
        "        row, col = self.state\n",
        "        if action == 0:  # up\n",
        "            new_state = (max(row - 1, 0), col)\n",
        "        elif action == 1:  # down\n",
        "            new_state = (min(row + 1, self.size - 1), col)\n",
        "        elif action == 2:  # left\n",
        "            new_state = (row, max(col - 1, 0))\n",
        "        elif action == 3:  # right\n",
        "            new_state = (row, min(col + 1, self.size - 1))\n",
        "        # Reward: +10 for reaching the goal, otherwise -1 per step.\n",
        "        reward = 10 if new_state == self.goal else -1\n",
        "        self.state = new_state\n",
        "        done = (new_state == self.goal)\n",
        "        return new_state, reward, done\n",
        "\n",
        "# Helper function to convert state (row, col) to Q-table index.\n",
        "def state_to_index(state, size):\n",
        "    return state[0] * size + state[1]\n",
        "\n",
        "# Q-learning update function.\n",
        "def update_Q(Q, s, a, r, s_next, alpha, gamma, env):\n",
        "    s_index = state_to_index(s, env.size)\n",
        "    s_next_index = state_to_index(s_next, env.size)\n",
        "    best_next = np.max(Q[s_next_index])\n",
        "    Q[s_index, a] = Q[s_index, a] + alpha * (r + gamma * best_next - Q[s_index, a])\n",
        "\n",
        "# Function to print the Q-table in a readable format.\n",
        "def print_Q(Q, size):\n",
        "    actions = ['up', 'down', 'left', 'right']\n",
        "    for i in range(size * size):\n",
        "        row = i // size\n",
        "        col = i % size\n",
        "        q_vals = \" \".join([f\"{actions[a]}: {Q[i, a]:.2f}\" for a in range(4)])\n",
        "        print(f\"State ({row},{col}): {q_vals}\")\n",
        "\n",
        "# Function to visualize the maze.\n",
        "def plot_maze(env, path=None):\n",
        "    if path is None:\n",
        "        path = []\n",
        "    fig, ax = plt.subplots()\n",
        "    ax.set_xlim(-0.5, env.size - 0.5)\n",
        "    ax.set_ylim(-0.5, env.size - 0.5)\n",
        "    ax.set_xticks(range(env.size))\n",
        "    ax.set_yticks(range(env.size))\n",
        "    ax.grid(True)\n",
        "\n",
        "    # Mark the goal.\n",
        "    ax.text(env.goal[1], env.goal[0], \"G\", va='center', ha='center',\n",
        "            color='green', fontsize=16)\n",
        "    # Mark the current position.\n",
        "    current = env.state\n",
        "    ax.text(current[1], current[0], \"X\", va='center', ha='center',\n",
        "            color='red', fontsize=16)\n",
        "    # Optionally, mark a path (for inference visualization).\n",
        "    for (r, c) in path:\n",
        "        ax.text(c, r, \"o\", va='center', ha='center', color='blue', fontsize=12)\n",
        "    ax.invert_yaxis()  # so that row 0 is at the top\n",
        "    plt.show()\n",
        "\n",
        "# Initialize environment and Q-table parameters.\n",
        "env = MazeEnv(size=3)\n",
        "Q = np.zeros((env.size * env.size, 4))\n",
        "alpha = 0.5   # Learning rate\n",
        "gamma = 0.9   # Discount factor\n",
        "\n",
        "# Create ipywidgets for control.\n",
        "control_dropdown = widgets.Dropdown(\n",
        "    options=[('Q-table suggestion', 'q'), ('Manual', 'manual')],\n",
        "    value='q',\n",
        "    description='Control:',\n",
        ")\n",
        "\n",
        "action_dropdown = widgets.Dropdown(\n",
        "    options=[('up', 0), ('down', 1), ('left', 2), ('right', 3)],\n",
        "    value=0,\n",
        "    description='Action:',\n",
        ")\n",
        "\n",
        "step_button = widgets.Button(\n",
        "    description='Step',\n",
        ")\n",
        "\n",
        "output = widgets.Output()\n",
        "\n",
        "display(control_dropdown, action_dropdown, step_button, output)\n",
        "\n",
        "# Callback function for each training step.\n",
        "def on_step_button_clicked(b):\n",
        "    global env, Q, alpha, gamma\n",
        "    with output:\n",
        "        clear_output(wait=True)\n",
        "        current_state = env.state\n",
        "        s_index = state_to_index(current_state, env.size)\n",
        "\n",
        "        # Choose action based on control type.\n",
        "        if control_dropdown.value == 'q':\n",
        "            # Use Q-table suggestion (choose the action with highest Q-value).\n",
        "            a = int(np.argmax(Q[s_index]))\n",
        "        else:\n",
        "            # Use manually selected action.\n",
        "            a = action_dropdown.value\n",
        "\n",
        "        # Execute the action.\n",
        "        next_state, reward, done = env.step(a)\n",
        "        update_Q(Q, current_state, a, reward, next_state, alpha, gamma, env)\n",
        "\n",
        "        print(\"Action taken:\", ['up', 'down', 'left', 'right'][a])\n",
        "        print(\"Reward:\", reward)\n",
        "        print(\"\\nUpdated Q-table:\")\n",
        "        print_Q(Q, env.size)\n",
        "        plot_maze(env)\n",
        "\n",
        "        if done:\n",
        "            print(\"Goal reached. Resetting environment.\")\n",
        "            env.reset()\n",
        "\n",
        "step_button.on_click(on_step_button_clicked)\n",
        "\n"
      ],
      "metadata": {
        "colab": {
          "base_uri": "https://localhost:8080/",
          "height": 756,
          "referenced_widgets": [
            "e48321f9cc2e42f4b3b63ca31d428e05",
            "f58eae93ffdd462189ad551c6f181d16",
            "df391c5afe3947ba905a47dba0fda881",
            "9717ede189b24af9a7e46bcc0eb4af6d",
            "1070293a0ee94037915998fb9f5b8ec3",
            "7d6a58cb96834e279a4a837299736e4c",
            "a661f14c273b412ba7c12f8304643530",
            "5f36c60888cc4058bb0f256f07ef68f0",
            "29a860a7638d4376803498efe6aa6be9",
            "56fc86f72ff34b66ac8a43c17de1b64b",
            "9fc51fd3febe40e084e0d9c55b44e126"
          ]
        },
        "cellView": "form",
        "id": "R-z0JnqECKkD",
        "outputId": "7c81f11d-ebeb-406b-cd71-d02b13734d3c"
      },
      "execution_count": 4,
      "outputs": [
        {
          "output_type": "display_data",
          "data": {
            "text/plain": [
              "Dropdown(description='Control:', options=(('Q-table suggestion', 'q'), ('Manual', 'manual')), value='q')"
            ],
            "application/vnd.jupyter.widget-view+json": {
              "version_major": 2,
              "version_minor": 0,
              "model_id": "e48321f9cc2e42f4b3b63ca31d428e05"
            }
          },
          "metadata": {}
        },
        {
          "output_type": "display_data",
          "data": {
            "text/plain": [
              "Dropdown(description='Action:', options=(('up', 0), ('down', 1), ('left', 2), ('right', 3)), value=0)"
            ],
            "application/vnd.jupyter.widget-view+json": {
              "version_major": 2,
              "version_minor": 0,
              "model_id": "9717ede189b24af9a7e46bcc0eb4af6d"
            }
          },
          "metadata": {}
        },
        {
          "output_type": "display_data",
          "data": {
            "text/plain": [
              "Button(description='Step', style=ButtonStyle())"
            ],
            "application/vnd.jupyter.widget-view+json": {
              "version_major": 2,
              "version_minor": 0,
              "model_id": "a661f14c273b412ba7c12f8304643530"
            }
          },
          "metadata": {}
        },
        {
          "output_type": "display_data",
          "data": {
            "text/plain": [
              "Output()"
            ],
            "application/vnd.jupyter.widget-view+json": {
              "version_major": 2,
              "version_minor": 0,
              "model_id": "56fc86f72ff34b66ac8a43c17de1b64b"
            }
          },
          "metadata": {}
        }
      ]
    },
    {
      "cell_type": "code",
      "source": [
        "# -------------------------------\n",
        "# Inference: Visualize the path using the trained Q-table.\n",
        "def infer_path(Q, env):\n",
        "    # Start from the initial state.\n",
        "    state = env.start\n",
        "    path = [state]\n",
        "    # Prevent infinite loops in case of poor Q-values.\n",
        "    max_steps = env.size * env.size * 2\n",
        "    steps = 0\n",
        "    while state != env.goal and steps < max_steps:\n",
        "        s_index = state_to_index(state, env.size)\n",
        "        a = int(np.argmax(Q[s_index]))\n",
        "        row, col = state\n",
        "        if a == 0:\n",
        "            next_state = (max(row - 1, 0), col)\n",
        "        elif a == 1:\n",
        "            next_state = (min(row + 1, env.size - 1), col)\n",
        "        elif a == 2:\n",
        "            next_state = (row, max(col - 1, 0))\n",
        "        elif a == 3:\n",
        "            next_state = (row, min(col + 1, env.size - 1))\n",
        "        if next_state == state:  # avoid loops if no movement occurs\n",
        "            break\n",
        "        path.append(next_state)\n",
        "        state = next_state\n",
        "        steps += 1\n",
        "    return path\n",
        "\n",
        "# Code snippet for inference.\n",
        "print(\"\\nInference demonstration using the trained Q-table:\")\n",
        "env.reset()\n",
        "inference_path = infer_path(Q, env)\n",
        "print(\"Path from start to goal:\", inference_path)\n",
        "plot_maze(env, path=inference_path)"
      ],
      "metadata": {
        "colab": {
          "base_uri": "https://localhost:8080/",
          "height": 484
        },
        "id": "xEy7ETH_IFuA",
        "outputId": "bb5b846c-1611-43b1-f777-c6890663f31b"
      },
      "execution_count": 5,
      "outputs": [
        {
          "output_type": "stream",
          "name": "stdout",
          "text": [
            "\n",
            "Inference demonstration using the trained Q-table:\n",
            "Path from start to goal: [(0, 0), (0, 1), (0, 2), (1, 2), (2, 2)]\n"
          ]
        },
        {
          "output_type": "display_data",
          "data": {
            "text/plain": [
              "<Figure size 640x480 with 1 Axes>"
            ],
            "image/png": "[encoded data removed]"
          },
          "metadata": {}
        }
      ]
    }
  ]
}