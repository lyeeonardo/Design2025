{
 "cells": [
  {
   "cell_type": "markdown",
   "id": "216a6b25-c724-4d55-abd0-6c1009dc62dc",
   "metadata": {},
   "source": [
    "# Example 2: Simple Bank Account Manager\n",
    "\n",
    "### Description:\n",
    "This program simulates a basic bank account system where a user can:\n",
    "\n",
    "- Deposit money into the account\n",
    "- Withdraw money from the account\n",
    "- Check the account balance\n",
    "- Exit the program\n",
    "\n",
    "### Concepts Covered:\n",
    "- Variables and data types (float, string)\n",
    "- Arithmetic and comparison operators\n",
    "- Control flow (`if`, `elif`, `else`)\n",
    "- Loops (`while`)\n",
    "\n",
    "---"
   ]
  },
  {
   "cell_type": "code",
   "execution_count": 4,
   "id": "2e18c50e-ffdd-43f4-ae7c-1dbeb13b2171",
   "metadata": {},
   "outputs": [
    {
     "name": "stdout",
     "output_type": "stream",
     "text": [
      "Welcome to the Simple Bank Account Manager\n",
      "Your current balance is: 1000.0\n",
      "\n",
      "Select an option:\n",
      "1. Deposit\n",
      "2. Withdraw\n",
      "3. Check Balance\n",
      "4. Exit\n"
     ]
    },
    {
     "name": "stdin",
     "output_type": "stream",
     "text": [
      "Enter your choice (1-4):  2\n",
      "Enter withdrawal amount:  100\n"
     ]
    },
    {
     "name": "stdout",
     "output_type": "stream",
     "text": [
      "Withdrawal successful.\n",
      "\n",
      "Select an option:\n",
      "1. Deposit\n",
      "2. Withdraw\n",
      "3. Check Balance\n",
      "4. Exit\n"
     ]
    },
    {
     "name": "stdin",
     "output_type": "stream",
     "text": [
      "Enter your choice (1-4):  3\n"
     ]
    },
    {
     "name": "stdout",
     "output_type": "stream",
     "text": [
      "Your current balance is: 900.0\n",
      "\n",
      "Select an option:\n",
      "1. Deposit\n",
      "2. Withdraw\n",
      "3. Check Balance\n",
      "4. Exit\n"
     ]
    },
    {
     "name": "stdin",
     "output_type": "stream",
     "text": [
      "Enter your choice (1-4):  4\n"
     ]
    },
    {
     "name": "stdout",
     "output_type": "stream",
     "text": [
      "Exiting. Thank you for using our service!\n"
     ]
    }
   ],
   "source": [
    "# Simple Bank Account Manager\n",
    "# This program simulates a basic bank account system where a user can deposit, withdraw, and check their balance.\n",
    "\n",
    "# Initialize the account balance as a float.\n",
    "balance = 1000.0\n",
    "\n",
    "# Display a welcome message and show the initial balance.\n",
    "print(\"Welcome to the Simple Bank Account Manager\")\n",
    "print(\"Your current balance is:\", balance)\n",
    "\n",
    "# Start an infinite loop to process transactions until the user decides to exit.\n",
    "while True:\n",
    "    # Display the menu options.\n",
    "    print(\"\\nSelect an option:\")\n",
    "    print(\"1. Deposit\")\n",
    "    print(\"2. Withdraw\")\n",
    "    print(\"3. Check Balance\")\n",
    "    print(\"4. Exit\")\n",
    "    \n",
    "    # Read the user's choice as a string.\n",
    "    choice = input(\"Enter your choice (1-4): \")\n",
    "    \n",
    "    # Process the user's selection using conditional statements.\n",
    "    if choice == '1':\n",
    "        # Convert the input to a float for deposit amount.\n",
    "        deposit = float(input(\"Enter deposit amount: \"))\n",
    "        if deposit > 0:\n",
    "            balance += deposit  # Use the addition operator to update balance.\n",
    "            print(\"Deposit successful.\")\n",
    "        else:\n",
    "            print(\"Invalid deposit amount.\")\n",
    "    elif choice == '2':\n",
    "        # Convert the input to a float for withdrawal amount.\n",
    "        withdraw = float(input(\"Enter withdrawal amount: \"))\n",
    "        # Check that the withdrawal amount is positive and does not exceed the current balance.\n",
    "        if withdraw > 0 and withdraw <= balance:\n",
    "            balance -= withdraw  # Use the subtraction operator to update balance.\n",
    "            print(\"Withdrawal successful.\")\n",
    "        else:\n",
    "            print(\"Invalid withdrawal amount or insufficient funds.\")\n",
    "    elif choice == '3':\n",
    "        # Display the current balance.\n",
    "        print(\"Your current balance is:\", balance)\n",
    "    elif choice == '4':\n",
    "        # Exit the loop and end the program.\n",
    "        print(\"Exiting. Thank you for using our service!\")\n",
    "        break\n",
    "    else:\n",
    "        # Handle any invalid menu options.\n",
    "        print(\"Invalid choice. Please try again.\")"
   ]
  },
  {
   "cell_type": "markdown",
   "id": "c3d57a1e-72c5-4c66-b297-10d1856c853d",
   "metadata": {},
   "source": [
    "## In-Class Assignment: Extend the Bank Account Manager\n",
    "\n",
    "## Assignment Task:\n",
    "Modify the provided **Bank Account Manager** to record a **transaction history**. Each time a **deposit** or **withdrawal** is made, record the transaction in a **list**. Each transaction record should be a **dictionary** with the keys:  \n",
    "- `'type'` (values: `\"deposit\"` or `\"withdrawal\"`)  \n",
    "- `'amount'` (the transaction amount)  \n",
    "\n",
    "When the user chooses to **exit**, print out the complete transaction history.\n",
    "\n",
    "---\n",
    "\n",
    "## Guidelines:\n",
    "\n",
    "### 1. Create a List for Transaction History:\n",
    "- Initialize an empty list (e.g., `transactions = []`) before entering the loop.\n",
    "\n",
    "### 2. Record Transactions:\n",
    "- After a successful **deposit** or **withdrawal**, append a **dictionary** to the list with the appropriate transaction details.\n",
    "\n",
    "### 3. Print Transaction History:\n",
    "- When the user selects the **exit option** (`choice '4'`), iterate over the `transactions` list and print each record.\n",
    "\n",
    "### 4. Consider Edge Cases:\n",
    "- Only record transactions **if they are successful** (i.e., valid deposit or withdrawal)."
   ]
  },
  {
   "cell_type": "code",
   "execution_count": null,
   "id": "2b558345-af97-4bc5-b19f-fb0dd99d8923",
   "metadata": {},
   "outputs": [],
   "source": []
  }
 ],
 "metadata": {
  "kernelspec": {
   "display_name": "Python 3 (ipykernel)",
   "language": "python",
   "name": "python3"
  },
  "language_info": {
   "codemirror_mode": {
    "name": "ipython",
    "version": 3
   },
   "file_extension": ".py",
   "mimetype": "text/x-python",
   "name": "python",
   "nbconvert_exporter": "python",
   "pygments_lexer": "ipython3",
   "version": "3.11.11"
  }
 },
 "nbformat": 4,
 "nbformat_minor": 5
}
