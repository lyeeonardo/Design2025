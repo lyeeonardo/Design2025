{
  "cells": [
    {
      "cell_type": "markdown",
      "source": [],
      "metadata": {
        "id": "8NXrtnDtsWlR"
      },
      "id": "8NXrtnDtsWlR"
    },
    {
      "cell_type": "code",
      "execution_count": 8,
      "id": "2ab793df-a8f3-43b3-85ac-a91f650a43d6",
      "metadata": {
        "colab": {
          "base_uri": "https://localhost:8080/"
        },
        "id": "2ab793df-a8f3-43b3-85ac-a91f650a43d6",
        "outputId": "4f790eff-2a81-41d0-eb58-c2e5ac7b3963"
      },
      "outputs": [
        {
          "output_type": "stream",
          "name": "stdout",
          "text": [
            "Cloning into 'Design2025'...\n",
            "remote: Enumerating objects: 33, done.\u001b[K\n",
            "remote: Counting objects:   3% (1/33)\u001b[K\rremote: Counting objects:   6% (2/33)\u001b[K\rremote: Counting objects:   9% (3/33)\u001b[K\rremote: Counting objects:  12% (4/33)\u001b[K\rremote: Counting objects:  15% (5/33)\u001b[K\rremote: Counting objects:  18% (6/33)\u001b[K\rremote: Counting objects:  21% (7/33)\u001b[K\rremote: Counting objects:  24% (8/33)\u001b[K\rremote: Counting objects:  27% (9/33)\u001b[K\rremote: Counting objects:  30% (10/33)\u001b[K\rremote: Counting objects:  33% (11/33)\u001b[K\rremote: Counting objects:  36% (12/33)\u001b[K\rremote: Counting objects:  39% (13/33)\u001b[K\rremote: Counting objects:  42% (14/33)\u001b[K\rremote: Counting objects:  45% (15/33)\u001b[K\rremote: Counting objects:  48% (16/33)\u001b[K\rremote: Counting objects:  51% (17/33)\u001b[K\rremote: Counting objects:  54% (18/33)\u001b[K\rremote: Counting objects:  57% (19/33)\u001b[K\rremote: Counting objects:  60% (20/33)\u001b[K\rremote: Counting objects:  63% (21/33)\u001b[K\rremote: Counting objects:  66% (22/33)\u001b[K\rremote: Counting objects:  69% (23/33)\u001b[K\rremote: Counting objects:  72% (24/33)\u001b[K\rremote: Counting objects:  75% (25/33)\u001b[K\rremote: Counting objects:  78% (26/33)\u001b[K\rremote: Counting objects:  81% (27/33)\u001b[K\rremote: Counting objects:  84% (28/33)\u001b[K\rremote: Counting objects:  87% (29/33)\u001b[K\rremote: Counting objects:  90% (30/33)\u001b[K\rremote: Counting objects:  93% (31/33)\u001b[K\rremote: Counting objects:  96% (32/33)\u001b[K\rremote: Counting objects: 100% (33/33)\u001b[K\rremote: Counting objects: 100% (33/33), done.\u001b[K\n",
            "remote: Compressing objects:   3% (1/31)\u001b[K\rremote: Compressing objects:   6% (2/31)\u001b[K\rremote: Compressing objects:   9% (3/31)\u001b[K\rremote: Compressing objects:  12% (4/31)\u001b[K\rremote: Compressing objects:  16% (5/31)\u001b[K\rremote: Compressing objects:  19% (6/31)\u001b[K\rremote: Compressing objects:  22% (7/31)\u001b[K\rremote: Compressing objects:  25% (8/31)\u001b[K\rremote: Compressing objects:  29% (9/31)\u001b[K\rremote: Compressing objects:  32% (10/31)\u001b[K\rremote: Compressing objects:  35% (11/31)\u001b[K\rremote: Compressing objects:  38% (12/31)\u001b[K\rremote: Compressing objects:  41% (13/31)\u001b[K\rremote: Compressing objects:  45% (14/31)\u001b[K\rremote: Compressing objects:  48% (15/31)\u001b[K\rremote: Compressing objects:  51% (16/31)\u001b[K\rremote: Compressing objects:  54% (17/31)\u001b[K\rremote: Compressing objects:  58% (18/31)\u001b[K\rremote: Compressing objects:  61% (19/31)\u001b[K\rremote: Compressing objects:  64% (20/31)\u001b[K\rremote: Compressing objects:  67% (21/31)\u001b[K\rremote: Compressing objects:  70% (22/31)\u001b[K\rremote: Compressing objects:  74% (23/31)\u001b[K\rremote: Compressing objects:  77% (24/31)\u001b[K\rremote: Compressing objects:  80% (25/31)\u001b[K\rremote: Compressing objects:  83% (26/31)\u001b[K\rremote: Compressing objects:  87% (27/31)\u001b[K\rremote: Compressing objects:  90% (28/31)\u001b[K\rremote: Compressing objects:  93% (29/31)\u001b[K\rremote: Compressing objects:  96% (30/31)\u001b[K\rremote: Compressing objects: 100% (31/31)\u001b[K\rremote: Compressing objects: 100% (31/31), done.\u001b[K\n",
            "Receiving objects:   3% (1/33)\rReceiving objects:   6% (2/33)\rReceiving objects:   9% (3/33)\rReceiving objects:  12% (4/33)\rReceiving objects:  15% (5/33)\rReceiving objects:  18% (6/33)\rReceiving objects:  21% (7/33)\rReceiving objects:  24% (8/33)\rReceiving objects:  27% (9/33)\rReceiving objects:  30% (10/33)\rReceiving objects:  33% (11/33)\rReceiving objects:  36% (12/33)\rReceiving objects:  39% (13/33)\rReceiving objects:  42% (14/33)\rReceiving objects:  45% (15/33)\rReceiving objects:  48% (16/33)\rReceiving objects:  51% (17/33)\rReceiving objects:  54% (18/33)\rReceiving objects:  57% (19/33)\rReceiving objects:  60% (20/33)\rReceiving objects:  63% (21/33)\rReceiving objects:  66% (22/33)\rremote: Total 33 (delta 9), reused 0 (delta 0), pack-reused 0 (from 0)\u001b[K\n",
            "Receiving objects:  69% (23/33)\rReceiving objects:  72% (24/33)\rReceiving objects:  75% (25/33)\rReceiving objects:  78% (26/33)\rReceiving objects:  81% (27/33)\rReceiving objects:  84% (28/33)\rReceiving objects:  87% (29/33)\rReceiving objects:  90% (30/33)\rReceiving objects:  93% (31/33)\rReceiving objects:  96% (32/33)\rReceiving objects: 100% (33/33)\rReceiving objects: 100% (33/33), 57.10 KiB | 7.14 MiB/s, done.\n",
            "Resolving deltas:   0% (0/9)\rResolving deltas:  11% (1/9)\rResolving deltas:  22% (2/9)\rResolving deltas:  33% (3/9)\rResolving deltas:  44% (4/9)\rResolving deltas:  55% (5/9)\rResolving deltas:  66% (6/9)\rResolving deltas:  77% (7/9)\rResolving deltas:  88% (8/9)\rResolving deltas: 100% (9/9)\rResolving deltas: 100% (9/9), done.\n",
            "/content/Design2025/titanic\n",
            "Design2025  submission.csv  test.csv  train.csv\n"
          ]
        }
      ],
      "source": [
        "!git clone https://github.com/lyeeonardo/Design2025.git\n",
        "%cd /content/Design2025/titanic\n",
        "!ls"
      ]
    },
    {
      "cell_type": "code",
      "source": [
        "# ============================================================\n",
        "# Section 1: Load and Visualize Data\n",
        "# ============================================================\n",
        "import pandas as pd\n",
        "import seaborn as sns\n",
        "import matplotlib.pyplot as plt\n",
        "from sklearn.model_selection import train_test_split\n",
        "from sklearn.linear_model import LogisticRegression\n",
        "from sklearn.metrics import accuracy_score\n",
        "\n",
        "# Load training and test datasets.\n",
        "train_df = pd.read_csv('train.csv')\n",
        "serving_df = pd.read_csv('test.csv')  # Renamed to 'serving_df' to avoid conflict.\n",
        "\n",
        "# Visualize the distribution of Age for each combination of Survived and Pclass.\n",
        "# This helps understand how age is distributed among different classes and outcomes.\n",
        "grid = sns.FacetGrid(train_df, col='Survived', row='Pclass', height=2.2, aspect=1.6)\n",
        "grid.map(plt.hist, 'Age', alpha=0.5, bins=20)\n",
        "grid.add_legend()\n",
        "plt.show()"
      ],
      "metadata": {
        "colab": {
          "base_uri": "https://localhost:8080/",
          "height": 667
        },
        "id": "TGUjQhxJpGJL",
        "outputId": "7d9e2772-490c-459b-c574-53e6271e9f9a"
      },
      "id": "TGUjQhxJpGJL",
      "execution_count": 9,
      "outputs": [
        {
          "output_type": "display_data",
          "data": {
            "text/plain": [
              "<Figure size 715.111x660 with 6 Axes>"
            ],
            "image/png": "[encoded data removed]"
          },
          "metadata": {}
        }
      ]
    },
    {
      "cell_type": "code",
      "source": [
        "print(train_df.head())"
      ],
      "metadata": {
        "colab": {
          "base_uri": "https://localhost:8080/"
        },
        "id": "H70g5UuMqt_Y",
        "outputId": "7200c166-19f1-4a57-854a-a36ed3e6167c"
      },
      "id": "H70g5UuMqt_Y",
      "execution_count": 19,
      "outputs": [
        {
          "output_type": "stream",
          "name": "stdout",
          "text": [
            "   PassengerId  Survived  Pclass                                Name     Sex  \\\n",
            "0          332         0       1                 Partner, Mr. Austen    male   \n",
            "1          734         0       2          Berriman, Mr. William John    male   \n",
            "2          383         0       3                  Tikkanen, Mr. Juho    male   \n",
            "3          705         0       3             Hansen, Mr. Henrik Juul    male   \n",
            "4          814         0       3  Andersson, Miss. Ebba Iris Alfrida  female   \n",
            "\n",
            "    Age  SibSp  Parch             Ticket     Fare Cabin Embarked  \n",
            "0  45.5      0      0             113043  28.5000  C124        S  \n",
            "1  23.0      0      0              28425  13.0000   NaN        S  \n",
            "2  32.0      0      0  STON/O 2. 3101293   7.9250   NaN        S  \n",
            "3  26.0      1      0             350025   7.8542   NaN        S  \n",
            "4   6.0      4      2             347082  31.2750   NaN        S  \n"
          ]
        }
      ]
    },
    {
      "cell_type": "code",
      "source": [
        "# ============================================================\n",
        "# Section 2: Data Preprocessing\n",
        "# ============================================================\n",
        "def preprocess(df):\n",
        "    \"\"\"\n",
        "    Applies the following transformations:\n",
        "      - Normalizes the 'Name' column by removing extraneous punctuation.\n",
        "      - Extracts the ticket number (last token) from the 'Ticket' column.\n",
        "      - Extracts the ticket item (all tokens except the last) from the 'Ticket' column.\n",
        "      - Fills NaN values appropriately.\n",
        "    \"\"\"\n",
        "    df = df.copy()\n",
        "\n",
        "    # Remove commas, parentheses, brackets, periods, and quotes from names.\n",
        "    def normalize_name(x):\n",
        "        return \" \".join([v.strip(\",()[].\\\"'\") for v in str(x).split(\" \")])\n",
        "\n",
        "    # Extract the ticket number (the last element in the ticket string).\n",
        "    def ticket_number(x):\n",
        "        return str(x).split(\" \")[-1] if pd.notna(x) else \"NONE\"\n",
        "\n",
        "    # Extract the ticket item (all elements except the last).\n",
        "    def ticket_item(x):\n",
        "        items = str(x).split(\" \")\n",
        "        if len(items) == 1:\n",
        "            return \"NONE\"\n",
        "        return \"_\".join(items[:-1])\n",
        "\n",
        "    # Apply transformations\n",
        "    print(df[\"Name\"].head())\n",
        "    print(\"-----------------------\")\n",
        "    df[\"Name\"] = df[\"Name\"].apply(normalize_name)\n",
        "    print(df[\"Name\"].head())\n",
        "    print(\"-----------------------\")\n",
        "    df[\"Ticket_number\"] = df[\"Ticket\"].apply(ticket_number)\n",
        "    df[\"Ticket_item\"] = df[\"Ticket\"].apply(ticket_item)\n",
        "\n",
        "    df = df.assign(\n",
        "        Age=df[\"Age\"].fillna(df[\"Age\"].median()),  # Fill missing Age with median\n",
        "        Fare=df[\"Fare\"].fillna(df[\"Fare\"].median()),  # Fill missing Fare with median\n",
        "        Embarked=df[\"Embarked\"].fillna(df[\"Embarked\"].mode()[0]),  # Fill missing Embarked with mode\n",
        "        Cabin=df[\"Cabin\"].fillna(\"Unknown\"),  # Fill missing Cabin with \"Unknown\"\n",
        "        Ticket_number=df[\"Ticket_number\"].fillna(\"NONE\"),\n",
        "        Ticket_item=df[\"Ticket_item\"].fillna(\"NONE\")\n",
        "    )\n",
        "\n",
        "    return df\n",
        "\n",
        "# Preprocess both the training and serving datasets.\n",
        "preprocessed_train_df = preprocess(train_df)\n",
        "preprocessed_serving_df = preprocess(serving_df)\n",
        "\n",
        "# Display the first 5 rows of the preprocessed training data.\n",
        "print(preprocessed_train_df.head(5))\n",
        "\n",
        "# Define the list of input features for model training.\n",
        "# Exclude 'PassengerId', 'Ticket', and 'Survived' (target) from the feature list.\n",
        "input_features = list(preprocessed_train_df.columns)\n",
        "input_features.remove(\"Ticket\")\n",
        "input_features.remove(\"PassengerId\")\n",
        "input_features.remove(\"Survived\")\n",
        "print(\"-----------------------\")\n",
        "print(f\"Input features: {input_features}\")\n"
      ],
      "metadata": {
        "colab": {
          "base_uri": "https://localhost:8080/"
        },
        "id": "qcBeY63apL5C",
        "outputId": "8e77ae27-c502-4c9e-8247-f71218cdae46"
      },
      "id": "qcBeY63apL5C",
      "execution_count": 18,
      "outputs": [
        {
          "output_type": "stream",
          "name": "stdout",
          "text": [
            "0                   Partner, Mr. Austen\n",
            "1            Berriman, Mr. William John\n",
            "2                    Tikkanen, Mr. Juho\n",
            "3               Hansen, Mr. Henrik Juul\n",
            "4    Andersson, Miss. Ebba Iris Alfrida\n",
            "Name: Name, dtype: object\n",
            "-----------------------\n",
            "0                   Partner Mr Austen\n",
            "1            Berriman Mr William John\n",
            "2                    Tikkanen Mr Juho\n",
            "3               Hansen Mr Henrik Juul\n",
            "4    Andersson Miss Ebba Iris Alfrida\n",
            "Name: Name, dtype: object\n",
            "-----------------------\n",
            "0    Moubarek, Master. Halim Gonios (\"William George\")\n",
            "1               Kvillner, Mr. Johan Henrik Johannesson\n",
            "2                          Alhomaki, Mr. Ilmari Rudolf\n",
            "3                    Harper, Miss. Annie Jessie \"Nina\"\n",
            "4                          Nicola-Yarred, Miss. Jamila\n",
            "Name: Name, dtype: object\n",
            "-----------------------\n",
            "0    Moubarek Master Halim Gonios William George\n",
            "1           Kvillner Mr Johan Henrik Johannesson\n",
            "2                      Alhomaki Mr Ilmari Rudolf\n",
            "3                  Harper Miss Annie Jessie Nina\n",
            "4                      Nicola-Yarred Miss Jamila\n",
            "Name: Name, dtype: object\n",
            "-----------------------\n",
            "   PassengerId  Survived  Pclass                              Name     Sex  \\\n",
            "0          332         0       1                 Partner Mr Austen    male   \n",
            "1          734         0       2          Berriman Mr William John    male   \n",
            "2          383         0       3                  Tikkanen Mr Juho    male   \n",
            "3          705         0       3             Hansen Mr Henrik Juul    male   \n",
            "4          814         0       3  Andersson Miss Ebba Iris Alfrida  female   \n",
            "\n",
            "    Age  SibSp  Parch             Ticket     Fare    Cabin Embarked  \\\n",
            "0  45.5      0      0             113043  28.5000     C124        S   \n",
            "1  23.0      0      0              28425  13.0000  Unknown        S   \n",
            "2  32.0      0      0  STON/O 2. 3101293   7.9250  Unknown        S   \n",
            "3  26.0      1      0             350025   7.8542  Unknown        S   \n",
            "4   6.0      4      2             347082  31.2750  Unknown        S   \n",
            "\n",
            "  Ticket_number Ticket_item  \n",
            "0        113043        NONE  \n",
            "1         28425        NONE  \n",
            "2       3101293   STON/O_2.  \n",
            "3        350025        NONE  \n",
            "4        347082        NONE  \n",
            "-----------------------\n",
            "Input features: ['Pclass', 'Name', 'Sex', 'Age', 'SibSp', 'Parch', 'Fare', 'Cabin', 'Embarked', 'Ticket_number', 'Ticket_item']\n"
          ]
        }
      ]
    },
    {
      "cell_type": "code",
      "source": [
        "# ============================================================\n",
        "# Section 3: Model Training\n",
        "# ============================================================\n",
        "# Prepare the feature matrix X and target vector y.\n",
        "X = preprocessed_train_df[input_features]\n",
        "y = preprocessed_train_df[\"Survived\"]\n",
        "\n",
        "# For simplicity, convert categorical variables into dummy/indicator variables.\n",
        "# This step converts text features (e.g., 'Name', 'Sex', 'Cabin', etc.) to numerical format.\n",
        "X = pd.get_dummies(X)\n",
        "\n",
        "# Store the training columns for later use in model inference.\n",
        "train_columns = X.columns\n",
        "\n",
        "# Split the preprocessed training data into training and validation sets.\n",
        "X_train, X_val, y_train, y_val = train_test_split(X, y, test_size=0.2, random_state=42)\n",
        "\n",
        "# Initialize and train a simple logistic regression classifier.\n",
        "clf = LogisticRegression(max_iter=1000)\n",
        "clf.fit(X_train, y_train)\n",
        "\n",
        "# Evaluate model performance on the validation set.\n",
        "y_pred = clf.predict(X_val)\n",
        "accuracy = accuracy_score(y_val, y_pred)\n",
        "print(f\"Validation Accuracy: {accuracy:.4f}\")\n",
        "\n"
      ],
      "metadata": {
        "id": "J2hLBV8l8diC",
        "colab": {
          "base_uri": "https://localhost:8080/"
        },
        "outputId": "f0d45624-f8ca-4b9a-b334-b258bd90eb2d"
      },
      "id": "J2hLBV8l8diC",
      "execution_count": 11,
      "outputs": [
        {
          "output_type": "stream",
          "name": "stdout",
          "text": [
            "Validation Accuracy: 0.8252\n"
          ]
        }
      ]
    },
    {
      "cell_type": "code",
      "source": [
        "# ============================================================\n",
        "# Section 4: Model Inference and Submission File Creation\n",
        "# ============================================================\n",
        "# Prepare the serving (test) data using the same input features.\n",
        "X_serving = preprocessed_serving_df[input_features]\n",
        "X_serving = pd.get_dummies(X_serving)\n",
        "\n",
        "# Align the serving data columns with the training data.\n",
        "# This ensures that any missing dummy columns in the test set are filled with zeros.\n",
        "X_serving = X_serving.reindex(columns=train_columns, fill_value=0)\n",
        "\n",
        "# Use the trained model to predict outcomes on the test dataset.\n",
        "serving_predictions = clf.predict(X_serving)\n",
        "\n",
        "# Create a submission DataFrame with PassengerId and the predicted Survived values.\n",
        "submission_df = pd.DataFrame({\n",
        "    'PassengerId': preprocessed_serving_df['PassengerId'],\n",
        "    'Survived': serving_predictions\n",
        "})\n",
        "\n",
        "# Save the submission to a CSV file.\n",
        "submission_df.to_csv('submission.csv', index=False)\n",
        "\n",
        "# Display the first few rows of the submission file.\n",
        "print(submission_df.head())"
      ],
      "metadata": {
        "colab": {
          "base_uri": "https://localhost:8080/"
        },
        "id": "TbHm83iLZbAD",
        "outputId": "402cce5b-249e-4f17-b494-25b87b106e21"
      },
      "id": "TbHm83iLZbAD",
      "execution_count": 12,
      "outputs": [
        {
          "output_type": "stream",
          "name": "stdout",
          "text": [
            "   PassengerId  Survived\n",
            "0          710         0\n",
            "1          440         0\n",
            "2          841         0\n",
            "3          721         1\n",
            "4           40         1\n"
          ]
        }
      ]
    }
  ],
  "metadata": {
    "kernelspec": {
      "display_name": "Python 3",
      "name": "python3"
    },
    "language_info": {
      "codemirror_mode": {
        "name": "ipython",
        "version": 3
      },
      "file_extension": ".py",
      "mimetype": "text/x-python",
      "name": "python",
      "nbconvert_exporter": "python",
      "pygments_lexer": "ipython3",
      "version": "3.10.16"
    },
    "colab": {
      "provenance": []
    }
  },
  "nbformat": 4,
  "nbformat_minor": 5
}